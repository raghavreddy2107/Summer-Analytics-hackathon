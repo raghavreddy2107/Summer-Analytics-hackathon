{
 "cells": [
  {
   "cell_type": "code",
   "execution_count": null,
   "id": "be2732c7",
   "metadata": {},
   "outputs": [],
   "source": [
    "# NDVI Land Cover Classification - Logistic Regression with Scaling"
   ]
  },
  {
   "cell_type": "code",
   "execution_count": null,
   "id": "aad61d0b",
   "metadata": {},
   "outputs": [],
   "source": [
    "import numpy as np\n",
    "import pandas as pd\n",
    "from sklearn.impute import SimpleImputer\n",
    "from sklearn.linear_model import LogisticRegression\n",
    "from sklearn.model_selection import StratifiedKFold, cross_val_score\n",
    "from sklearn.preprocessing import LabelEncoder, StandardScaler\n",
    "from scipy.signal import savgol_filter\n",
    "import matplotlib.pyplot as plt"
   ]
  },
  {
   "cell_type": "code",
   "execution_count": null,
   "id": "8229d171",
   "metadata": {},
   "outputs": [],
   "source": [
    "# Load datasets\n",
    "train_df = pd.read_csv(\"hacktrain.csv\")\n",
    "test_df = pd.read_csv(\"hacktest.csv\")"
   ]
  },
  {
   "cell_type": "code",
   "execution_count": null,
   "id": "914850ae",
   "metadata": {},
   "outputs": [],
   "source": [
    "# Extract NDVI columns\n",
    "ndvi_columns = [col for col in train_df.columns if \"_N\" in col]"
   ]
  },
  {
   "cell_type": "code",
   "execution_count": null,
   "id": "fbdbd910",
   "metadata": {},
   "outputs": [],
   "source": [
    "X_raw = train_df[ndvi_columns].values\n",
    "y_raw = train_df['class'].values\n",
    "X_test_raw = test_df[ndvi_columns].values"
   ]
  },
  {
   "cell_type": "code",
   "execution_count": null,
   "id": "39c9bcd3",
   "metadata": {},
   "outputs": [],
   "source": [
    "# Impute missing values\n",
    "imputer = SimpleImputer(strategy='median')\n",
    "X_imputed = imputer.fit_transform(X_raw)\n",
    "X_test_imputed = imputer.transform(X_test_raw)"
   ]
  },
  {
   "cell_type": "code",
   "execution_count": null,
   "id": "32b9aea6",
   "metadata": {},
   "outputs": [],
   "source": [
    "# Smooth NDVI time-series\n",
    "X_smoothed = savgol_filter(X_imputed, window_length=5, polyorder=2, axis=1)\n",
    "X_test_smoothed = savgol_filter(X_test_imputed, window_length=5, polyorder=2, axis=1)"
   ]
  },
  {
   "cell_type": "code",
   "execution_count": null,
   "id": "4d882a90",
   "metadata": {},
   "outputs": [],
   "source": [
    "# Feature extraction\n",
    "def extract_features(ndvi_series):\n",
    "    ndvi_series = np.array(ndvi_series)\n",
    "    features = [\n",
    "        np.nanmean(ndvi_series),\n",
    "        np.nanstd(ndvi_series),\n",
    "        np.nanmin(ndvi_series),\n",
    "        np.nanmax(ndvi_series),\n",
    "        np.nanmedian(ndvi_series),\n",
    "        np.nanpercentile(ndvi_series, 25),\n",
    "        np.nanpercentile(ndvi_series, 75),\n",
    "        np.nanmean(np.diff(ndvi_series))\n",
    "    ]\n",
    "    return features"
   ]
  },
  {
   "cell_type": "code",
   "execution_count": null,
   "id": "6fb1d5ef",
   "metadata": {},
   "outputs": [],
   "source": [
    "X_features = np.array([extract_features(row) for row in X_smoothed])\n",
    "X_test_features = np.array([extract_features(row) for row in X_test_smoothed])"
   ]
  },
  {
   "cell_type": "code",
   "execution_count": null,
   "id": "e960b167",
   "metadata": {},
   "outputs": [],
   "source": [
    "# Scale features\n",
    "scaler = StandardScaler()\n",
    "X_scaled = scaler.fit_transform(X_features)\n",
    "X_test_scaled = scaler.transform(X_test_features)"
   ]
  },
  {
   "cell_type": "code",
   "execution_count": null,
   "id": "27e676b9",
   "metadata": {},
   "outputs": [],
   "source": [
    "# Encode labels\n",
    "le = LabelEncoder()\n",
    "y_encoded = le.fit_transform(y_raw)"
   ]
  },
  {
   "cell_type": "code",
   "execution_count": null,
   "id": "6eb5aa41",
   "metadata": {},
   "outputs": [],
   "source": [
    "# Train Logistic Regression with cross-validation\n",
    "model = LogisticRegression(max_iter=2000, multi_class='multinomial', solver='lbfgs')\n",
    "cv = StratifiedKFold(n_splits=5, shuffle=True, random_state=42)\n",
    "scores = cross_val_score(model, X_scaled, y_encoded, cv=cv, scoring='accuracy')\n",
    "print(f\"Cross-Validation Accuracy: {scores.mean():.4f}\")"
   ]
  },
  {
   "cell_type": "code",
   "execution_count": null,
   "id": "04e58d3b",
   "metadata": {},
   "outputs": [],
   "source": [
    "# Train final model\n",
    "model.fit(X_scaled, y_encoded)"
   ]
  },
  {
   "cell_type": "code",
   "execution_count": null,
   "id": "9c63d9d6",
   "metadata": {},
   "outputs": [],
   "source": [
    "# Predict on test data\n",
    "y_test_pred = model.predict(X_test_scaled)\n",
    "test_df['class'] = le.inverse_transform(y_test_pred)"
   ]
  },
  {
   "cell_type": "code",
   "execution_count": null,
   "id": "d9ed66db",
   "metadata": {},
   "outputs": [],
   "source": [
    "# Prepare submission\n",
    "submission = test_df[['ID', 'class']]\n",
    "submission.to_csv(\"submission.csv\", index=False)"
   ]
  }
 ],
 "metadata": {
  "kernelspec": {
   "display_name": "Python 3",
   "language": "python",
   "name": "python3"
  },
  "language_info": {
   "name": "python",
   "version": "3.11"
  }
 },
 "nbformat": 4,
 "nbformat_minor": 5
}
